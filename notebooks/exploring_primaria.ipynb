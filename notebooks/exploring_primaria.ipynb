{
 "cells": [
  {
   "cell_type": "code",
   "execution_count": 1,
   "metadata": {},
   "outputs": [],
   "source": [
    "%config IPCompleter.greedy=True"
   ]
  },
  {
   "cell_type": "code",
   "execution_count": 2,
   "metadata": {},
   "outputs": [],
   "source": [
    "import pandas as pd\n",
    "import numpy as np\n",
    "import matplotlib.pyplot as plt"
   ]
  },
  {
   "cell_type": "code",
   "execution_count": 3,
   "metadata": {},
   "outputs": [],
   "source": [
    "primaria = pd.read_csv(\"../primaria.csv\", sep=\";\")"
   ]
  },
  {
   "cell_type": "code",
   "execution_count": null,
   "metadata": {},
   "outputs": [],
   "source": [
    "pd.re"
   ]
  },
  {
   "cell_type": "code",
   "execution_count": 4,
   "metadata": {},
   "outputs": [
    {
     "data": {
      "text/plain": [
       "array(['\\ufeffHora', 'Contexto del evento', 'Componente', 'Nombre evento',\n",
       "       'Descripción', 'pseudonimo'], dtype=object)"
      ]
     },
     "execution_count": 4,
     "metadata": {},
     "output_type": "execute_result"
    }
   ],
   "source": [
    "primaria.columns.values"
   ]
  },
  {
   "cell_type": "code",
   "execution_count": 5,
   "metadata": {},
   "outputs": [
    {
     "data": {
      "text/html": [
       "<div>\n",
       "<style scoped>\n",
       "    .dataframe tbody tr th:only-of-type {\n",
       "        vertical-align: middle;\n",
       "    }\n",
       "\n",
       "    .dataframe tbody tr th {\n",
       "        vertical-align: top;\n",
       "    }\n",
       "\n",
       "    .dataframe thead th {\n",
       "        text-align: right;\n",
       "    }\n",
       "</style>\n",
       "<table border=\"1\" class=\"dataframe\">\n",
       "  <thead>\n",
       "    <tr style=\"text-align: right;\">\n",
       "      <th></th>\n",
       "      <th>﻿Hora</th>\n",
       "      <th>Contexto del evento</th>\n",
       "      <th>Componente</th>\n",
       "      <th>Nombre evento</th>\n",
       "      <th>Descripción</th>\n",
       "      <th>pseudonimo</th>\n",
       "    </tr>\n",
       "  </thead>\n",
       "  <tbody>\n",
       "    <tr>\n",
       "      <th>0</th>\n",
       "      <td>12/07/2018 10:51</td>\n",
       "      <td>Curso: G432 - Formación en valores y competenc...</td>\n",
       "      <td>Registros</td>\n",
       "      <td>Informe de registros visto</td>\n",
       "      <td>The user with id '13886' viewed the log report...</td>\n",
       "      <td>ucPrim1718-1</td>\n",
       "    </tr>\n",
       "    <tr>\n",
       "      <th>1</th>\n",
       "      <td>12/07/2018 10:51</td>\n",
       "      <td>Curso: G432 - Formación en valores y competenc...</td>\n",
       "      <td>Sistema</td>\n",
       "      <td>Curso visto</td>\n",
       "      <td>The user with id '13886' viewed the course wit...</td>\n",
       "      <td>ucPrim1718-1</td>\n",
       "    </tr>\n",
       "    <tr>\n",
       "      <th>2</th>\n",
       "      <td>11/07/2018 22:51</td>\n",
       "      <td>Curso: G432 - Formación en valores y competenc...</td>\n",
       "      <td>Informe general</td>\n",
       "      <td>Informe de resumen de notas visto</td>\n",
       "      <td>The user with id '28486' viewed the overview r...</td>\n",
       "      <td>ucPrim1718-2</td>\n",
       "    </tr>\n",
       "    <tr>\n",
       "      <th>3</th>\n",
       "      <td>11/07/2018 22:51</td>\n",
       "      <td>Curso: G432 - Formación en valores y competenc...</td>\n",
       "      <td>Usuario</td>\n",
       "      <td>Informe de notas de usuario visto</td>\n",
       "      <td>The user with id '28486' viewed the user repor...</td>\n",
       "      <td>ucPrim1718-2</td>\n",
       "    </tr>\n",
       "    <tr>\n",
       "      <th>4</th>\n",
       "      <td>11/07/2018 22:51</td>\n",
       "      <td>Curso: G432 - Formación en valores y competenc...</td>\n",
       "      <td>Sistema</td>\n",
       "      <td>Curso visto</td>\n",
       "      <td>The user with id '28486' viewed the course wit...</td>\n",
       "      <td>ucPrim1718-2</td>\n",
       "    </tr>\n",
       "  </tbody>\n",
       "</table>\n",
       "</div>"
      ],
      "text/plain": [
       "              ﻿Hora                                Contexto del evento  \\\n",
       "0  12/07/2018 10:51  Curso: G432 - Formación en valores y competenc...   \n",
       "1  12/07/2018 10:51  Curso: G432 - Formación en valores y competenc...   \n",
       "2  11/07/2018 22:51  Curso: G432 - Formación en valores y competenc...   \n",
       "3  11/07/2018 22:51  Curso: G432 - Formación en valores y competenc...   \n",
       "4  11/07/2018 22:51  Curso: G432 - Formación en valores y competenc...   \n",
       "\n",
       "        Componente                      Nombre evento  \\\n",
       "0        Registros         Informe de registros visto   \n",
       "1          Sistema                        Curso visto   \n",
       "2  Informe general  Informe de resumen de notas visto   \n",
       "3          Usuario  Informe de notas de usuario visto   \n",
       "4          Sistema                        Curso visto   \n",
       "\n",
       "                                         Descripción    pseudonimo  \n",
       "0  The user with id '13886' viewed the log report...  ucPrim1718-1  \n",
       "1  The user with id '13886' viewed the course wit...  ucPrim1718-1  \n",
       "2  The user with id '28486' viewed the overview r...  ucPrim1718-2  \n",
       "3  The user with id '28486' viewed the user repor...  ucPrim1718-2  \n",
       "4  The user with id '28486' viewed the course wit...  ucPrim1718-2  "
      ]
     },
     "execution_count": 5,
     "metadata": {},
     "output_type": "execute_result"
    }
   ],
   "source": [
    "primaria.head()"
   ]
  },
  {
   "cell_type": "code",
   "execution_count": 32,
   "metadata": {},
   "outputs": [
    {
     "data": {
      "text/plain": [
       "<matplotlib.axes._subplots.AxesSubplot at 0x17ec891aac8>"
      ]
     },
     "execution_count": 32,
     "metadata": {},
     "output_type": "execute_result"
    },
    {
     "data": {
      "image/png": "[encoded data removed]",
      "text/plain": [
       "<Figure size 432x288 with 1 Axes>"
      ]
     },
     "metadata": {
      "needs_background": "light"
     },
     "output_type": "display_data"
    }
   ],
   "source": [
    "# Componentes más usados\n",
    "componente_counts = primaria[\"Componente\"].value_counts()\n",
    "componente_counts.plot(kind='bar')"
   ]
  },
  {
   "cell_type": "code",
   "execution_count": null,
   "metadata": {},
   "outputs": [],
   "source": [
    "np."
   ]
  }
 ],
 "metadata": {
  "kernelspec": {
   "display_name": "Python 3",
   "language": "python",
   "name": "python3"
  },
  "language_info": {
   "codemirror_mode": {
    "name": "ipython",
    "version": 3
   },
   "file_extension": ".py",
   "mimetype": "text/x-python",
   "name": "python",
   "nbconvert_exporter": "python",
   "pygments_lexer": "ipython3",
   "version": "3.6.7"
  }
 },
 "nbformat": 4,
 "nbformat_minor": 2
}
