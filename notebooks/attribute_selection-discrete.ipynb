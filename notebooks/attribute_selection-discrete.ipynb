{
 "cells": [
  {
   "cell_type": "code",
   "execution_count": 1,
   "metadata": {},
   "outputs": [],
   "source": [
    "import pandas as pd\n",
    "import numpy as np\n",
    "from sklearn.svm import SVC\n",
    "from sklearn.model_selection import cross_val_score, cross_validate\n",
    "from sklearn.metrics import mean_absolute_error, confusion_matrix\n",
    "from sklearn.multiclass import OneVsRestClassifier\n",
    "from sklearn.feature_selection import SelectKBest, chi2\n",
    "from sklearn.model_selection import StratifiedKFold\n",
    "from sklearn.ensemble import RandomForestClassifier\n",
    "from feature_selector import FeatureSelector\n",
    "from matplotlib import pyplot as plt"
   ]
  },
  {
   "cell_type": "code",
   "execution_count": 2,
   "metadata": {},
   "outputs": [],
   "source": [
    "# Load data\n",
    "data = pd.read_csv(\"../data/output.csv\")\n",
    "data.dropna(inplace=True)"
   ]
  },
  {
   "cell_type": "code",
   "execution_count": 3,
   "metadata": {},
   "outputs": [],
   "source": [
    "X = data.iloc[:, 1:-1]\n",
    "y = data.iloc[:, -1]\n",
    "#print(X.head(5))\n",
    "#print(y.head(5))"
   ]
  },
  {
   "cell_type": "code",
   "execution_count": 4,
   "metadata": {
    "scrolled": true
   },
   "outputs": [
    {
     "data": {
      "text/plain": [
       "9.5"
      ]
     },
     "execution_count": 4,
     "metadata": {},
     "output_type": "execute_result"
    }
   ],
   "source": [
    "y.max()"
   ]
  },
  {
   "cell_type": "code",
   "execution_count": 5,
   "metadata": {},
   "outputs": [
    {
     "data": {
      "image/png": "[encoded data removed]",
      "text/plain": [
       "<matplotlib.figure.Figure at 0x7f86d24af6d8>"
      ]
     },
     "metadata": {
      "needs_background": "light"
     },
     "output_type": "display_data"
    }
   ],
   "source": [
    "# Histogram of the data\n",
    "plt.hist(y, bins=20)\n",
    "plt.show()"
   ]
  },
  {
   "cell_type": "code",
   "execution_count": 6,
   "metadata": {},
   "outputs": [
    {
     "name": "stderr",
     "output_type": "stream",
     "text": [
      "/home/mario/miniconda3/lib/python3.6/site-packages/ipykernel_launcher.py:7: SettingWithCopyWarning: \n",
      "A value is trying to be set on a copy of a slice from a DataFrame\n",
      "\n",
      "See the caveats in the documentation: http://pandas.pydata.org/pandas-docs/stable/indexing.html#indexing-view-versus-copy\n",
      "  import sys\n",
      "/home/mario/miniconda3/lib/python3.6/site-packages/ipykernel_launcher.py:5: SettingWithCopyWarning: \n",
      "A value is trying to be set on a copy of a slice from a DataFrame\n",
      "\n",
      "See the caveats in the documentation: http://pandas.pydata.org/pandas-docs/stable/indexing.html#indexing-view-versus-copy\n",
      "  \"\"\"\n",
      "/home/mario/miniconda3/lib/python3.6/site-packages/ipykernel_launcher.py:3: SettingWithCopyWarning: \n",
      "A value is trying to be set on a copy of a slice from a DataFrame\n",
      "\n",
      "See the caveats in the documentation: http://pandas.pydata.org/pandas-docs/stable/indexing.html#indexing-view-versus-copy\n",
      "  This is separate from the ipykernel package so we can avoid doing imports until\n"
     ]
    }
   ],
   "source": [
    "for i in range(len(y)):\n",
    "    if y[i] < 5: \n",
    "        y[i] = 0\n",
    "    elif y[i] < 7.5:\n",
    "        y[i] = 1\n",
    "    else: \n",
    "        y[i] = 2"
   ]
  },
  {
   "cell_type": "code",
   "execution_count": 7,
   "metadata": {
    "collapsed": true
   },
   "outputs": [
    {
     "data": {
      "text/plain": [
       "array(['Idusuario', 'period1_Actividad reciente vis',\n",
       "       'period1_Algún contenido ha sid', 'period1_Capítulo visto',\n",
       "       'period1_Comentario creado', 'period1_Comentario eliminado',\n",
       "       'period1_Consulta respondida', 'period1_Curso actualizado',\n",
       "       'period1_Curso buscado', 'period1_Curso visto',\n",
       "       'period1_Entrega creada.', 'period1_Envío actualizado.',\n",
       "       'period1_Finalización de curso ', 'period1_Formulario de califica',\n",
       "       'period1_Formulario de entrega ', 'period1_Ha comenzado el intent',\n",
       "       'period1_Informe de Consulta vi', 'period1_Informe de notas de us',\n",
       "       'period1_Informe de resumen de ', 'period1_Informe del examinador',\n",
       "       'period1_Informe del usuario vi', 'period1_Informe usuario del cu',\n",
       "       'period1_Instancia del módulo d', 'period1_Intento de cuestionari',\n",
       "       'period1_Intento del cuestionar', 'period1_Intento enviado',\n",
       "       'period1_Las entregas se han de', 'period1_Lista de usuarios vist',\n",
       "       'period1_Los envíos han sido bl', 'period1_Mensaje creado',\n",
       "       'period1_Módulo de curso actual', 'period1_Módulo de curso creado',\n",
       "       'period1_Módulo de curso elimin', 'period1_Módulo de curso visto',\n",
       "       'period1_Perfil de usuario vist', 'period1_Quiz report viewed',\n",
       "       'period1_Resumen del intento de', 'period1_Rol asignado',\n",
       "       'period1_Se ha enviado una entr', 'period1_Se ha suscrito a esta ',\n",
       "       'period1_Se ha visualizado el e', 'period1_Sección de curso actua',\n",
       "       'period1_Suscripción activada', 'period1_Tema creado',\n",
       "       'period1_Tema visto', 'period1_Un fichero ha sido sub',\n",
       "       'period1_Usuario calificado', 'period1_Usuario matriculado en',\n",
       "       'period1_Vista previa del inten', 'period1_Visualización de las C',\n",
       "       'period2_Actividad reciente vis', 'period2_Algún contenido ha sid',\n",
       "       'period2_Calificación borrada', 'period2_Capítulo visto',\n",
       "       'period2_Contenido del curso el', 'period2_Curso buscado',\n",
       "       'period2_Curso restaurado', 'period2_Curso visto',\n",
       "       'period2_Entrega creada.', 'period2_Envío actualizado.',\n",
       "       'period2_Evento de calendario b', 'period2_Finalización de curso ',\n",
       "       'period2_Formulario de entrega ', 'period2_Ha comenzado el intent',\n",
       "       'period2_Informe de notas de us', 'period2_Informe de registros v',\n",
       "       'period2_Informe de resumen de ', 'period2_Informe del usuario vi',\n",
       "       'period2_Informe usuario del cu', 'period2_Instancia del módulo d',\n",
       "       'period2_Intento de cuestionari', 'period2_Intento del cuestionar',\n",
       "       'period2_Intento enviado', 'period2_Lista de usuarios vist',\n",
       "       'period2_Módulo de curso actual', 'period2_Módulo de curso creado',\n",
       "       'period2_Módulo de curso elimin', 'period2_Módulo de curso visto',\n",
       "       'period2_Perfil de usuario vist', 'period2_Quiz report viewed',\n",
       "       'period2_Resumen del intento de', 'period2_Rol asignado',\n",
       "       'period2_Rol sin asignar', 'period2_Se ha enviado una entr',\n",
       "       'period2_Se ha suscrito a esta ', 'period2_Se ha visualizado el e',\n",
       "       'period2_Suscripción activada', 'period2_Tema creado',\n",
       "       'period2_Tema visto', 'period2_Un fichero ha sido sub',\n",
       "       'period2_Usuario matriculado en', 'period2_Visualización de las C',\n",
       "       'period1_sessions', 'period2_sessions',\n",
       "       'period1_Curso: G432 - Formació', 'period1_Foro: Compartimos nues',\n",
       "       'period1_Foro: DEBATIENDO EL DI', 'period1_Foro: FORO PARA COMPAR',\n",
       "       'period1_Foro: Novedades y anun', 'period1_Foro: Subida de inform',\n",
       "       'period1_Otro', 'period2_Curso: G432 - Formació',\n",
       "       'period2_Foro: Compartimos nues', 'period2_Foro: DEBATIENDO EL DI',\n",
       "       'period2_Foro: FORO PARA COMPAR', 'period2_Foro: Novedades y anun',\n",
       "       'period2_Foro: Subida de inform', 'period2_Otro', 'FINAL'],\n",
       "      dtype=object)"
      ]
     },
     "execution_count": 7,
     "metadata": {},
     "output_type": "execute_result"
    }
   ],
   "source": [
    "data.columns.values"
   ]
  },
  {
   "cell_type": "code",
   "execution_count": 8,
   "metadata": {},
   "outputs": [
    {
     "data": {
      "text/html": [
       "<div>\n",
       "<style scoped>\n",
       "    .dataframe tbody tr th:only-of-type {\n",
       "        vertical-align: middle;\n",
       "    }\n",
       "\n",
       "    .dataframe tbody tr th {\n",
       "        vertical-align: top;\n",
       "    }\n",
       "\n",
       "    .dataframe thead th {\n",
       "        text-align: right;\n",
       "    }\n",
       "</style>\n",
       "<table border=\"1\" class=\"dataframe\">\n",
       "  <thead>\n",
       "    <tr style=\"text-align: right;\">\n",
       "      <th></th>\n",
       "      <th>Idusuario</th>\n",
       "    </tr>\n",
       "    <tr>\n",
       "      <th>FINAL</th>\n",
       "      <th></th>\n",
       "    </tr>\n",
       "  </thead>\n",
       "  <tbody>\n",
       "    <tr>\n",
       "      <th>0.0</th>\n",
       "      <td>15</td>\n",
       "    </tr>\n",
       "    <tr>\n",
       "      <th>1.0</th>\n",
       "      <td>95</td>\n",
       "    </tr>\n",
       "    <tr>\n",
       "      <th>2.0</th>\n",
       "      <td>45</td>\n",
       "    </tr>\n",
       "  </tbody>\n",
       "</table>\n",
       "</div>"
      ],
      "text/plain": [
       "       Idusuario\n",
       "FINAL           \n",
       "0.0           15\n",
       "1.0           95\n",
       "2.0           45"
      ]
     },
     "execution_count": 8,
     "metadata": {},
     "output_type": "execute_result"
    }
   ],
   "source": [
    "data[[\"FINAL\", \"Idusuario\"]].groupby('FINAL').count()"
   ]
  },
  {
   "cell_type": "code",
   "execution_count": 9,
   "metadata": {},
   "outputs": [
    {
     "name": "stdout",
     "output_type": "stream",
     "text": [
      "Number of rows: 155.\n"
     ]
    }
   ],
   "source": [
    "#data.head(5)\n",
    "print(f\"Number of rows: {len(data.index)}.\")"
   ]
  },
  {
   "cell_type": "code",
   "execution_count": 10,
   "metadata": {},
   "outputs": [
    {
     "name": "stdout",
     "output_type": "stream",
     "text": [
      "Number of features: 107.\n"
     ]
    }
   ],
   "source": [
    "# print(*list(enumerate(X.columns.values)), sep=\"\\n\")\n",
    "print(f\"Number of features: {len(X.columns.values)}.\")"
   ]
  },
  {
   "cell_type": "code",
   "execution_count": 11,
   "metadata": {},
   "outputs": [
    {
     "name": "stdout",
     "output_type": "stream",
     "text": [
      "0.6129032258064516\n",
      "0.6193548387096774\n",
      "0.6064516129032257\n"
     ]
    }
   ],
   "source": [
    "model = SVC(gamma='auto', C=0.7)\n",
    "scores = cross_val_score(model, X, y, cv=5, scoring=\"accuracy\")\n",
    "print(scores.mean())\n",
    "\n",
    "model = SVC(gamma='auto', C=1)\n",
    "scores = cross_val_score(model, X, y, cv=5, scoring=\"accuracy\")\n",
    "print(scores.mean())\n",
    "\n",
    "model = SVC(gamma='auto', C=2)\n",
    "scores = cross_val_score(model, X, y, cv=5, scoring=\"accuracy\")\n",
    "print(scores.mean())"
   ]
  },
  {
   "cell_type": "code",
   "execution_count": 12,
   "metadata": {},
   "outputs": [
    {
     "data": {
      "text/plain": [
       "0.5741935483870967"
      ]
     },
     "execution_count": 12,
     "metadata": {},
     "output_type": "execute_result"
    }
   ],
   "source": [
    "forest = RandomForestClassifier(n_estimators=10)\n",
    "scores = cross_val_score(forest, X, y, cv=5, scoring=\"accuracy\")\n",
    "scores.mean()"
   ]
  },
  {
   "cell_type": "code",
   "execution_count": 13,
   "metadata": {},
   "outputs": [
    {
     "name": "stderr",
     "output_type": "stream",
     "text": [
      "/home/mario/miniconda3/lib/python3.6/site-packages/sklearn/svm/base.py:196: FutureWarning: The default value of gamma will change from 'auto' to 'scale' in version 0.22 to account better for unscaled features. Set gamma explicitly to 'auto' or 'scale' to avoid this warning.\n",
      "  \"avoid this warning.\", FutureWarning)\n",
      "/home/mario/miniconda3/lib/python3.6/site-packages/sklearn/svm/base.py:196: FutureWarning: The default value of gamma will change from 'auto' to 'scale' in version 0.22 to account better for unscaled features. Set gamma explicitly to 'auto' or 'scale' to avoid this warning.\n",
      "  \"avoid this warning.\", FutureWarning)\n",
      "/home/mario/miniconda3/lib/python3.6/site-packages/sklearn/svm/base.py:196: FutureWarning: The default value of gamma will change from 'auto' to 'scale' in version 0.22 to account better for unscaled features. Set gamma explicitly to 'auto' or 'scale' to avoid this warning.\n",
      "  \"avoid this warning.\", FutureWarning)\n",
      "/home/mario/miniconda3/lib/python3.6/site-packages/sklearn/svm/base.py:196: FutureWarning: The default value of gamma will change from 'auto' to 'scale' in version 0.22 to account better for unscaled features. Set gamma explicitly to 'auto' or 'scale' to avoid this warning.\n",
      "  \"avoid this warning.\", FutureWarning)\n",
      "/home/mario/miniconda3/lib/python3.6/site-packages/sklearn/svm/base.py:196: FutureWarning: The default value of gamma will change from 'auto' to 'scale' in version 0.22 to account better for unscaled features. Set gamma explicitly to 'auto' or 'scale' to avoid this warning.\n",
      "  \"avoid this warning.\", FutureWarning)\n",
      "/home/mario/miniconda3/lib/python3.6/site-packages/sklearn/svm/base.py:196: FutureWarning: The default value of gamma will change from 'auto' to 'scale' in version 0.22 to account better for unscaled features. Set gamma explicitly to 'auto' or 'scale' to avoid this warning.\n",
      "  \"avoid this warning.\", FutureWarning)\n",
      "/home/mario/miniconda3/lib/python3.6/site-packages/sklearn/svm/base.py:196: FutureWarning: The default value of gamma will change from 'auto' to 'scale' in version 0.22 to account better for unscaled features. Set gamma explicitly to 'auto' or 'scale' to avoid this warning.\n",
      "  \"avoid this warning.\", FutureWarning)\n",
      "/home/mario/miniconda3/lib/python3.6/site-packages/sklearn/svm/base.py:196: FutureWarning: The default value of gamma will change from 'auto' to 'scale' in version 0.22 to account better for unscaled features. Set gamma explicitly to 'auto' or 'scale' to avoid this warning.\n",
      "  \"avoid this warning.\", FutureWarning)\n",
      "/home/mario/miniconda3/lib/python3.6/site-packages/sklearn/svm/base.py:196: FutureWarning: The default value of gamma will change from 'auto' to 'scale' in version 0.22 to account better for unscaled features. Set gamma explicitly to 'auto' or 'scale' to avoid this warning.\n",
      "  \"avoid this warning.\", FutureWarning)\n",
      "/home/mario/miniconda3/lib/python3.6/site-packages/sklearn/svm/base.py:196: FutureWarning: The default value of gamma will change from 'auto' to 'scale' in version 0.22 to account better for unscaled features. Set gamma explicitly to 'auto' or 'scale' to avoid this warning.\n",
      "  \"avoid this warning.\", FutureWarning)\n",
      "/home/mario/miniconda3/lib/python3.6/site-packages/sklearn/svm/base.py:196: FutureWarning: The default value of gamma will change from 'auto' to 'scale' in version 0.22 to account better for unscaled features. Set gamma explicitly to 'auto' or 'scale' to avoid this warning.\n",
      "  \"avoid this warning.\", FutureWarning)\n",
      "/home/mario/miniconda3/lib/python3.6/site-packages/sklearn/svm/base.py:196: FutureWarning: The default value of gamma will change from 'auto' to 'scale' in version 0.22 to account better for unscaled features. Set gamma explicitly to 'auto' or 'scale' to avoid this warning.\n",
      "  \"avoid this warning.\", FutureWarning)\n",
      "/home/mario/miniconda3/lib/python3.6/site-packages/sklearn/svm/base.py:196: FutureWarning: The default value of gamma will change from 'auto' to 'scale' in version 0.22 to account better for unscaled features. Set gamma explicitly to 'auto' or 'scale' to avoid this warning.\n",
      "  \"avoid this warning.\", FutureWarning)\n",
      "/home/mario/miniconda3/lib/python3.6/site-packages/sklearn/svm/base.py:196: FutureWarning: The default value of gamma will change from 'auto' to 'scale' in version 0.22 to account better for unscaled features. Set gamma explicitly to 'auto' or 'scale' to avoid this warning.\n",
      "  \"avoid this warning.\", FutureWarning)\n",
      "/home/mario/miniconda3/lib/python3.6/site-packages/sklearn/svm/base.py:196: FutureWarning: The default value of gamma will change from 'auto' to 'scale' in version 0.22 to account better for unscaled features. Set gamma explicitly to 'auto' or 'scale' to avoid this warning.\n",
      "  \"avoid this warning.\", FutureWarning)\n"
     ]
    },
    {
     "data": {
      "text/plain": [
       "0.6129032258064516"
      ]
     },
     "execution_count": 13,
     "metadata": {},
     "output_type": "execute_result"
    }
   ],
   "source": [
    "# Using one versus rest\n",
    "model = OneVsRestClassifier(SVC(C=0.7))\n",
    "scores = cross_val_score(model, X, y, cv=5)\n",
    "scores.mean()"
   ]
  },
  {
   "cell_type": "code",
   "execution_count": 14,
   "metadata": {},
   "outputs": [],
   "source": [
    "fs = FeatureSelector(data = X, labels = y)"
   ]
  },
  {
   "cell_type": "code",
   "execution_count": 15,
   "metadata": {},
   "outputs": [
    {
     "name": "stdout",
     "output_type": "stream",
     "text": [
      "35 features with a single unique value.\n",
      "\n"
     ]
    }
   ],
   "source": [
    "fs.identify_single_unique()\n",
    "#s.ops[\"single_unique\"]"
   ]
  },
  {
   "cell_type": "code",
   "execution_count": 16,
   "metadata": {},
   "outputs": [
    {
     "data": {
      "text/html": [
       "<div>\n",
       "<style scoped>\n",
       "    .dataframe tbody tr th:only-of-type {\n",
       "        vertical-align: middle;\n",
       "    }\n",
       "\n",
       "    .dataframe tbody tr th {\n",
       "        vertical-align: top;\n",
       "    }\n",
       "\n",
       "    .dataframe thead th {\n",
       "        text-align: right;\n",
       "    }\n",
       "</style>\n",
       "<table border=\"1\" class=\"dataframe\">\n",
       "  <thead>\n",
       "    <tr style=\"text-align: right;\">\n",
       "      <th></th>\n",
       "      <th>nunique</th>\n",
       "    </tr>\n",
       "  </thead>\n",
       "  <tbody>\n",
       "    <tr>\n",
       "      <th>period2_Contenido del curso el</th>\n",
       "      <td>1</td>\n",
       "    </tr>\n",
       "    <tr>\n",
       "      <th>period1_Módulo de curso creado</th>\n",
       "      <td>1</td>\n",
       "    </tr>\n",
       "    <tr>\n",
       "      <th>period1_Módulo de curso elimin</th>\n",
       "      <td>1</td>\n",
       "    </tr>\n",
       "    <tr>\n",
       "      <th>period1_Quiz report viewed</th>\n",
       "      <td>1</td>\n",
       "    </tr>\n",
       "    <tr>\n",
       "      <th>period1_Rol asignado</th>\n",
       "      <td>1</td>\n",
       "    </tr>\n",
       "    <tr>\n",
       "      <th>period1_Sección de curso actua</th>\n",
       "      <td>1</td>\n",
       "    </tr>\n",
       "    <tr>\n",
       "      <th>period1_Suscripción activada</th>\n",
       "      <td>1</td>\n",
       "    </tr>\n",
       "    <tr>\n",
       "      <th>period1_Usuario matriculado en</th>\n",
       "      <td>1</td>\n",
       "    </tr>\n",
       "    <tr>\n",
       "      <th>period1_Vista previa del inten</th>\n",
       "      <td>1</td>\n",
       "    </tr>\n",
       "    <tr>\n",
       "      <th>period1_Visualización de las C</th>\n",
       "      <td>1</td>\n",
       "    </tr>\n",
       "    <tr>\n",
       "      <th>period2_Calificación borrada</th>\n",
       "      <td>1</td>\n",
       "    </tr>\n",
       "    <tr>\n",
       "      <th>period2_Curso restaurado</th>\n",
       "      <td>1</td>\n",
       "    </tr>\n",
       "    <tr>\n",
       "      <th>period2_Evento de calendario b</th>\n",
       "      <td>1</td>\n",
       "    </tr>\n",
       "    <tr>\n",
       "      <th>period2_Informe de registros v</th>\n",
       "      <td>1</td>\n",
       "    </tr>\n",
       "    <tr>\n",
       "      <th>period2_Módulo de curso actual</th>\n",
       "      <td>1</td>\n",
       "    </tr>\n",
       "    <tr>\n",
       "      <th>period2_Módulo de curso creado</th>\n",
       "      <td>1</td>\n",
       "    </tr>\n",
       "    <tr>\n",
       "      <th>period2_Módulo de curso elimin</th>\n",
       "      <td>1</td>\n",
       "    </tr>\n",
       "    <tr>\n",
       "      <th>period2_Quiz report viewed</th>\n",
       "      <td>1</td>\n",
       "    </tr>\n",
       "    <tr>\n",
       "      <th>period2_Rol asignado</th>\n",
       "      <td>1</td>\n",
       "    </tr>\n",
       "    <tr>\n",
       "      <th>period2_Rol sin asignar</th>\n",
       "      <td>1</td>\n",
       "    </tr>\n",
       "    <tr>\n",
       "      <th>period2_Suscripción activada</th>\n",
       "      <td>1</td>\n",
       "    </tr>\n",
       "    <tr>\n",
       "      <th>period2_Usuario matriculado en</th>\n",
       "      <td>1</td>\n",
       "    </tr>\n",
       "    <tr>\n",
       "      <th>period2_Visualización de las C</th>\n",
       "      <td>1</td>\n",
       "    </tr>\n",
       "    <tr>\n",
       "      <th>period1_Foro: DEBATIENDO EL DI</th>\n",
       "      <td>1</td>\n",
       "    </tr>\n",
       "    <tr>\n",
       "      <th>period1_Otro</th>\n",
       "      <td>1</td>\n",
       "    </tr>\n",
       "    <tr>\n",
       "      <th>period2_Foro: DEBATIENDO EL DI</th>\n",
       "      <td>1</td>\n",
       "    </tr>\n",
       "    <tr>\n",
       "      <th>period1_Módulo de curso actual</th>\n",
       "      <td>1</td>\n",
       "    </tr>\n",
       "    <tr>\n",
       "      <th>period1_Mensaje creado</th>\n",
       "      <td>1</td>\n",
       "    </tr>\n",
       "    <tr>\n",
       "      <th>period2_Otro</th>\n",
       "      <td>1</td>\n",
       "    </tr>\n",
       "    <tr>\n",
       "      <th>period1_Informe del examinador</th>\n",
       "      <td>1</td>\n",
       "    </tr>\n",
       "    <tr>\n",
       "      <th>...</th>\n",
       "      <td>...</td>\n",
       "    </tr>\n",
       "    <tr>\n",
       "      <th>period1_Actividad reciente vis</th>\n",
       "      <td>5</td>\n",
       "    </tr>\n",
       "    <tr>\n",
       "      <th>period2_Intento de cuestionari</th>\n",
       "      <td>5</td>\n",
       "    </tr>\n",
       "    <tr>\n",
       "      <th>period2_Finalización de curso</th>\n",
       "      <td>5</td>\n",
       "    </tr>\n",
       "    <tr>\n",
       "      <th>period1_Ha comenzado el intent</th>\n",
       "      <td>5</td>\n",
       "    </tr>\n",
       "    <tr>\n",
       "      <th>period1_Perfil de usuario vist</th>\n",
       "      <td>5</td>\n",
       "    </tr>\n",
       "    <tr>\n",
       "      <th>period1_Se ha enviado una entr</th>\n",
       "      <td>5</td>\n",
       "    </tr>\n",
       "    <tr>\n",
       "      <th>period1_Un fichero ha sido sub</th>\n",
       "      <td>5</td>\n",
       "    </tr>\n",
       "    <tr>\n",
       "      <th>period1_Resumen del intento de</th>\n",
       "      <td>6</td>\n",
       "    </tr>\n",
       "    <tr>\n",
       "      <th>period2_Informe de notas de us</th>\n",
       "      <td>6</td>\n",
       "    </tr>\n",
       "    <tr>\n",
       "      <th>period2_Tema visto</th>\n",
       "      <td>6</td>\n",
       "    </tr>\n",
       "    <tr>\n",
       "      <th>period1_Tema visto</th>\n",
       "      <td>7</td>\n",
       "    </tr>\n",
       "    <tr>\n",
       "      <th>period1_Foro: Subida de inform</th>\n",
       "      <td>8</td>\n",
       "    </tr>\n",
       "    <tr>\n",
       "      <th>period2_Foro: Subida de inform</th>\n",
       "      <td>8</td>\n",
       "    </tr>\n",
       "    <tr>\n",
       "      <th>period1_Formulario de entrega</th>\n",
       "      <td>8</td>\n",
       "    </tr>\n",
       "    <tr>\n",
       "      <th>period1_Finalización de curso</th>\n",
       "      <td>9</td>\n",
       "    </tr>\n",
       "    <tr>\n",
       "      <th>period1_Intento del cuestionar</th>\n",
       "      <td>10</td>\n",
       "    </tr>\n",
       "    <tr>\n",
       "      <th>period2_Foro: FORO PARA COMPAR</th>\n",
       "      <td>10</td>\n",
       "    </tr>\n",
       "    <tr>\n",
       "      <th>period1_Foro: FORO PARA COMPAR</th>\n",
       "      <td>10</td>\n",
       "    </tr>\n",
       "    <tr>\n",
       "      <th>period1_Lista de usuarios vist</th>\n",
       "      <td>11</td>\n",
       "    </tr>\n",
       "    <tr>\n",
       "      <th>period1_Capítulo visto</th>\n",
       "      <td>12</td>\n",
       "    </tr>\n",
       "    <tr>\n",
       "      <th>period1_Foro: Novedades y anun</th>\n",
       "      <td>13</td>\n",
       "    </tr>\n",
       "    <tr>\n",
       "      <th>period2_Foro: Novedades y anun</th>\n",
       "      <td>13</td>\n",
       "    </tr>\n",
       "    <tr>\n",
       "      <th>period1_Se ha visualizado el e</th>\n",
       "      <td>14</td>\n",
       "    </tr>\n",
       "    <tr>\n",
       "      <th>period1_Intento de cuestionari</th>\n",
       "      <td>28</td>\n",
       "    </tr>\n",
       "    <tr>\n",
       "      <th>period2_sessions</th>\n",
       "      <td>28</td>\n",
       "    </tr>\n",
       "    <tr>\n",
       "      <th>period1_sessions</th>\n",
       "      <td>44</td>\n",
       "    </tr>\n",
       "    <tr>\n",
       "      <th>period2_Curso visto</th>\n",
       "      <td>48</td>\n",
       "    </tr>\n",
       "    <tr>\n",
       "      <th>period2_Módulo de curso visto</th>\n",
       "      <td>54</td>\n",
       "    </tr>\n",
       "    <tr>\n",
       "      <th>period1_Curso visto</th>\n",
       "      <td>78</td>\n",
       "    </tr>\n",
       "    <tr>\n",
       "      <th>period1_Módulo de curso visto</th>\n",
       "      <td>79</td>\n",
       "    </tr>\n",
       "  </tbody>\n",
       "</table>\n",
       "<p>107 rows × 1 columns</p>\n",
       "</div>"
      ],
      "text/plain": [
       "                                nunique\n",
       "period2_Contenido del curso el        1\n",
       "period1_Módulo de curso creado        1\n",
       "period1_Módulo de curso elimin        1\n",
       "period1_Quiz report viewed            1\n",
       "period1_Rol asignado                  1\n",
       "period1_Sección de curso actua        1\n",
       "period1_Suscripción activada          1\n",
       "period1_Usuario matriculado en        1\n",
       "period1_Vista previa del inten        1\n",
       "period1_Visualización de las C        1\n",
       "period2_Calificación borrada          1\n",
       "period2_Curso restaurado              1\n",
       "period2_Evento de calendario b        1\n",
       "period2_Informe de registros v        1\n",
       "period2_Módulo de curso actual        1\n",
       "period2_Módulo de curso creado        1\n",
       "period2_Módulo de curso elimin        1\n",
       "period2_Quiz report viewed            1\n",
       "period2_Rol asignado                  1\n",
       "period2_Rol sin asignar               1\n",
       "period2_Suscripción activada          1\n",
       "period2_Usuario matriculado en        1\n",
       "period2_Visualización de las C        1\n",
       "period1_Foro: DEBATIENDO EL DI        1\n",
       "period1_Otro                          1\n",
       "period2_Foro: DEBATIENDO EL DI        1\n",
       "period1_Módulo de curso actual        1\n",
       "period1_Mensaje creado                1\n",
       "period2_Otro                          1\n",
       "period1_Informe del examinador        1\n",
       "...                                 ...\n",
       "period1_Actividad reciente vis        5\n",
       "period2_Intento de cuestionari        5\n",
       "period2_Finalización de curso         5\n",
       "period1_Ha comenzado el intent        5\n",
       "period1_Perfil de usuario vist        5\n",
       "period1_Se ha enviado una entr        5\n",
       "period1_Un fichero ha sido sub        5\n",
       "period1_Resumen del intento de        6\n",
       "period2_Informe de notas de us        6\n",
       "period2_Tema visto                    6\n",
       "period1_Tema visto                    7\n",
       "period1_Foro: Subida de inform        8\n",
       "period2_Foro: Subida de inform        8\n",
       "period1_Formulario de entrega         8\n",
       "period1_Finalización de curso         9\n",
       "period1_Intento del cuestionar       10\n",
       "period2_Foro: FORO PARA COMPAR       10\n",
       "period1_Foro: FORO PARA COMPAR       10\n",
       "period1_Lista de usuarios vist       11\n",
       "period1_Capítulo visto               12\n",
       "period1_Foro: Novedades y anun       13\n",
       "period2_Foro: Novedades y anun       13\n",
       "period1_Se ha visualizado el e       14\n",
       "period1_Intento de cuestionari       28\n",
       "period2_sessions                     28\n",
       "period1_sessions                     44\n",
       "period2_Curso visto                  48\n",
       "period2_Módulo de curso visto        54\n",
       "period1_Curso visto                  78\n",
       "period1_Módulo de curso visto        79\n",
       "\n",
       "[107 rows x 1 columns]"
      ]
     },
     "execution_count": 16,
     "metadata": {},
     "output_type": "execute_result"
    }
   ],
   "source": [
    "fs.unique_stats"
   ]
  },
  {
   "cell_type": "code",
   "execution_count": 17,
   "metadata": {},
   "outputs": [
    {
     "name": "stdout",
     "output_type": "stream",
     "text": [
      "13 features with a correlation magnitude greater than 0.95.\n",
      "\n"
     ]
    },
    {
     "data": {
      "image/png": "[encoded data removed]",
      "text/plain": [
       "<matplotlib.figure.Figure at 0x7f86d24af550>"
      ]
     },
     "metadata": {
      "needs_background": "light"
     },
     "output_type": "display_data"
    }
   ],
   "source": [
    "fs.identify_collinear(correlation_threshold=0.95)\n",
    "fs.plot_collinear()"
   ]
  },
  {
   "cell_type": "code",
   "execution_count": 18,
   "metadata": {},
   "outputs": [
    {
     "name": "stdout",
     "output_type": "stream",
     "text": [
      "Training Gradient Boosting Model\n",
      "\n",
      "\n",
      "80 features with zero importance after one-hot encoding.\n",
      "\n"
     ]
    }
   ],
   "source": [
    "fs.identify_zero_importance(task = 'classification', eval_metric = 'auc', \n",
    "                            n_iterations = 10, early_stopping = False)"
   ]
  },
  {
   "cell_type": "code",
   "execution_count": 19,
   "metadata": {},
   "outputs": [
    {
     "name": "stdout",
     "output_type": "stream",
     "text": [
      "22 features required for cumulative importance of 0.99 after one hot encoding.\n",
      "85 features do not contribute to cumulative importance of 0.99.\n",
      "\n"
     ]
    }
   ],
   "source": [
    "fs.identify_low_importance(cumulative_importance = 0.99)\n",
    "low_importance_features = fs.ops['low_importance']\n",
    "#low_importance_features"
   ]
  },
  {
   "cell_type": "code",
   "execution_count": 20,
   "metadata": {},
   "outputs": [
    {
     "data": {
      "image/png": "[encoded data removed]",
      "text/plain": [
       "<matplotlib.figure.Figure at 0x7f86d21fb320>"
      ]
     },
     "metadata": {},
     "output_type": "display_data"
    },
    {
     "data": {
      "image/png": "[encoded data removed]",
      "text/plain": [
       "<matplotlib.figure.Figure at 0x7f86d1fdec50>"
      ]
     },
     "metadata": {},
     "output_type": "display_data"
    }
   ],
   "source": [
    "fs.plot_feature_importances()"
   ]
  },
  {
   "cell_type": "code",
   "execution_count": 21,
   "metadata": {},
   "outputs": [
    {
     "data": {
      "text/html": [
       "<div>\n",
       "<style scoped>\n",
       "    .dataframe tbody tr th:only-of-type {\n",
       "        vertical-align: middle;\n",
       "    }\n",
       "\n",
       "    .dataframe tbody tr th {\n",
       "        vertical-align: top;\n",
       "    }\n",
       "\n",
       "    .dataframe thead th {\n",
       "        text-align: right;\n",
       "    }\n",
       "</style>\n",
       "<table border=\"1\" class=\"dataframe\">\n",
       "  <thead>\n",
       "    <tr style=\"text-align: right;\">\n",
       "      <th></th>\n",
       "      <th>feature</th>\n",
       "      <th>importance</th>\n",
       "      <th>normalized_importance</th>\n",
       "      <th>cumulative_importance</th>\n",
       "    </tr>\n",
       "  </thead>\n",
       "  <tbody>\n",
       "    <tr>\n",
       "      <th>0</th>\n",
       "      <td>period1_Curso visto</td>\n",
       "      <td>1990.0</td>\n",
       "      <td>0.131675</td>\n",
       "      <td>0.131675</td>\n",
       "    </tr>\n",
       "    <tr>\n",
       "      <th>1</th>\n",
       "      <td>period2_Módulo de curso visto</td>\n",
       "      <td>1765.0</td>\n",
       "      <td>0.116787</td>\n",
       "      <td>0.248462</td>\n",
       "    </tr>\n",
       "    <tr>\n",
       "      <th>2</th>\n",
       "      <td>period2_Curso visto</td>\n",
       "      <td>1674.0</td>\n",
       "      <td>0.110766</td>\n",
       "      <td>0.359227</td>\n",
       "    </tr>\n",
       "    <tr>\n",
       "      <th>3</th>\n",
       "      <td>period1_sessions</td>\n",
       "      <td>1558.0</td>\n",
       "      <td>0.103090</td>\n",
       "      <td>0.462317</td>\n",
       "    </tr>\n",
       "    <tr>\n",
       "      <th>4</th>\n",
       "      <td>period1_Módulo de curso visto</td>\n",
       "      <td>1372.0</td>\n",
       "      <td>0.090783</td>\n",
       "      <td>0.553100</td>\n",
       "    </tr>\n",
       "    <tr>\n",
       "      <th>5</th>\n",
       "      <td>period1_Foro: Novedades y anun</td>\n",
       "      <td>1055.0</td>\n",
       "      <td>0.069807</td>\n",
       "      <td>0.622907</td>\n",
       "    </tr>\n",
       "    <tr>\n",
       "      <th>6</th>\n",
       "      <td>period2_sessions</td>\n",
       "      <td>863.0</td>\n",
       "      <td>0.057103</td>\n",
       "      <td>0.680011</td>\n",
       "    </tr>\n",
       "    <tr>\n",
       "      <th>7</th>\n",
       "      <td>period1_Foro: FORO PARA COMPAR</td>\n",
       "      <td>861.0</td>\n",
       "      <td>0.056971</td>\n",
       "      <td>0.736981</td>\n",
       "    </tr>\n",
       "    <tr>\n",
       "      <th>8</th>\n",
       "      <td>period1_Se ha visualizado el e</td>\n",
       "      <td>841.0</td>\n",
       "      <td>0.055647</td>\n",
       "      <td>0.792629</td>\n",
       "    </tr>\n",
       "    <tr>\n",
       "      <th>9</th>\n",
       "      <td>period1_Intento de cuestionari</td>\n",
       "      <td>680.0</td>\n",
       "      <td>0.044994</td>\n",
       "      <td>0.837623</td>\n",
       "    </tr>\n",
       "  </tbody>\n",
       "</table>\n",
       "</div>"
      ],
      "text/plain": [
       "                          feature  importance  normalized_importance  \\\n",
       "0             period1_Curso visto      1990.0               0.131675   \n",
       "1   period2_Módulo de curso visto      1765.0               0.116787   \n",
       "2             period2_Curso visto      1674.0               0.110766   \n",
       "3                period1_sessions      1558.0               0.103090   \n",
       "4   period1_Módulo de curso visto      1372.0               0.090783   \n",
       "5  period1_Foro: Novedades y anun      1055.0               0.069807   \n",
       "6                period2_sessions       863.0               0.057103   \n",
       "7  period1_Foro: FORO PARA COMPAR       861.0               0.056971   \n",
       "8  period1_Se ha visualizado el e       841.0               0.055647   \n",
       "9  period1_Intento de cuestionari       680.0               0.044994   \n",
       "\n",
       "   cumulative_importance  \n",
       "0               0.131675  \n",
       "1               0.248462  \n",
       "2               0.359227  \n",
       "3               0.462317  \n",
       "4               0.553100  \n",
       "5               0.622907  \n",
       "6               0.680011  \n",
       "7               0.736981  \n",
       "8               0.792629  \n",
       "9               0.837623  "
      ]
     },
     "execution_count": 21,
     "metadata": {},
     "output_type": "execute_result"
    }
   ],
   "source": [
    "fs.feature_importances.head(10)"
   ]
  },
  {
   "cell_type": "code",
   "execution_count": 22,
   "metadata": {},
   "outputs": [
    {
     "name": "stdout",
     "output_type": "stream",
     "text": [
      "0.6129032258064516\n"
     ]
    }
   ],
   "source": [
    "selected = X.loc[:, fs.feature_importances[\"feature\"][:10]]\n",
    "model = SVC(gamma='auto')\n",
    "scores = cross_val_score(model, selected, y, cv=5, scoring=\"accuracy\")\n",
    "print(scores.mean())"
   ]
  },
  {
   "cell_type": "code",
   "execution_count": 23,
   "metadata": {},
   "outputs": [
    {
     "name": "stdout",
     "output_type": "stream",
     "text": [
      "0.6129032258064516\n"
     ]
    }
   ],
   "source": [
    "# Using sklearn for the same purpose\n",
    "selected = SelectKBest(chi2, k=10).fit_transform(X, y)\n",
    "model = SVC(gamma='auto')\n",
    "scores = cross_val_score(model, selected, y, cv=5, scoring=\"accuracy\")\n",
    "print(scores.mean())"
   ]
  },
  {
   "cell_type": "code",
   "execution_count": 24,
   "metadata": {},
   "outputs": [
    {
     "name": "stdout",
     "output_type": "stream",
     "text": [
      "0.9612903225806452\n"
     ]
    },
    {
     "data": {
      "text/plain": [
       "array([[10,  5,  0],\n",
       "       [ 0, 95,  0],\n",
       "       [ 0,  1, 44]])"
      ]
     },
     "execution_count": 24,
     "metadata": {},
     "output_type": "execute_result"
    }
   ],
   "source": [
    "# Confusion matrix for overfitted model\n",
    "model = SVC(gamma='auto')\n",
    "y_pred = model.fit(X, y).predict(X)\n",
    "print(model.score(X, y))\n",
    "confusion_matrix(y, y_pred)"
   ]
  },
  {
   "cell_type": "code",
   "execution_count": 25,
   "metadata": {},
   "outputs": [],
   "source": [
    "model = SVC(gamma='auto')\n",
    "results = cross_validate(model, X, y, n_jobs=-1, return_estimator=True, cv = 10)"
   ]
  },
  {
   "cell_type": "code",
   "execution_count": 26,
   "metadata": {
    "collapsed": true
   },
   "outputs": [
    {
     "name": "stderr",
     "output_type": "stream",
     "text": [
      "/home/mario/miniconda3/lib/python3.6/site-packages/sklearn/utils/deprecation.py:125: FutureWarning: You are accessing a training score ('train_score'), which will not be available by default any more in 0.21. If you need training scores, please set return_train_score=True\n",
      "  warnings.warn(*warn_args, **warn_kwargs)\n"
     ]
    },
    {
     "data": {
      "text/plain": [
       "{'fit_time': array([0.00829029, 0.00793791, 0.00614619, 0.00850224, 0.00611711,\n",
       "        0.00862408, 0.00642157, 0.00868368, 0.00868416, 0.00644898]),\n",
       " 'score_time': array([0.0021503 , 0.00211501, 0.00138688, 0.00216246, 0.0014708 ,\n",
       "        0.00209761, 0.00140738, 0.00210881, 0.00210857, 0.0014255 ]),\n",
       " 'estimator': (SVC(C=1.0, cache_size=200, class_weight=None, coef0=0.0,\n",
       "    decision_function_shape='ovr', degree=3, gamma='auto', kernel='rbf',\n",
       "    max_iter=-1, probability=False, random_state=None, shrinking=True,\n",
       "    tol=0.001, verbose=False),\n",
       "  SVC(C=1.0, cache_size=200, class_weight=None, coef0=0.0,\n",
       "    decision_function_shape='ovr', degree=3, gamma='auto', kernel='rbf',\n",
       "    max_iter=-1, probability=False, random_state=None, shrinking=True,\n",
       "    tol=0.001, verbose=False),\n",
       "  SVC(C=1.0, cache_size=200, class_weight=None, coef0=0.0,\n",
       "    decision_function_shape='ovr', degree=3, gamma='auto', kernel='rbf',\n",
       "    max_iter=-1, probability=False, random_state=None, shrinking=True,\n",
       "    tol=0.001, verbose=False),\n",
       "  SVC(C=1.0, cache_size=200, class_weight=None, coef0=0.0,\n",
       "    decision_function_shape='ovr', degree=3, gamma='auto', kernel='rbf',\n",
       "    max_iter=-1, probability=False, random_state=None, shrinking=True,\n",
       "    tol=0.001, verbose=False),\n",
       "  SVC(C=1.0, cache_size=200, class_weight=None, coef0=0.0,\n",
       "    decision_function_shape='ovr', degree=3, gamma='auto', kernel='rbf',\n",
       "    max_iter=-1, probability=False, random_state=None, shrinking=True,\n",
       "    tol=0.001, verbose=False),\n",
       "  SVC(C=1.0, cache_size=200, class_weight=None, coef0=0.0,\n",
       "    decision_function_shape='ovr', degree=3, gamma='auto', kernel='rbf',\n",
       "    max_iter=-1, probability=False, random_state=None, shrinking=True,\n",
       "    tol=0.001, verbose=False),\n",
       "  SVC(C=1.0, cache_size=200, class_weight=None, coef0=0.0,\n",
       "    decision_function_shape='ovr', degree=3, gamma='auto', kernel='rbf',\n",
       "    max_iter=-1, probability=False, random_state=None, shrinking=True,\n",
       "    tol=0.001, verbose=False),\n",
       "  SVC(C=1.0, cache_size=200, class_weight=None, coef0=0.0,\n",
       "    decision_function_shape='ovr', degree=3, gamma='auto', kernel='rbf',\n",
       "    max_iter=-1, probability=False, random_state=None, shrinking=True,\n",
       "    tol=0.001, verbose=False),\n",
       "  SVC(C=1.0, cache_size=200, class_weight=None, coef0=0.0,\n",
       "    decision_function_shape='ovr', degree=3, gamma='auto', kernel='rbf',\n",
       "    max_iter=-1, probability=False, random_state=None, shrinking=True,\n",
       "    tol=0.001, verbose=False),\n",
       "  SVC(C=1.0, cache_size=200, class_weight=None, coef0=0.0,\n",
       "    decision_function_shape='ovr', degree=3, gamma='auto', kernel='rbf',\n",
       "    max_iter=-1, probability=False, random_state=None, shrinking=True,\n",
       "    tol=0.001, verbose=False)),\n",
       " 'test_score': array([0.58823529, 0.58823529, 0.58823529, 0.58823529, 0.58823529,\n",
       "        0.64285714, 0.64285714, 0.64285714, 0.64285714, 0.64285714]),\n",
       " 'train_score': array([0.95652174, 0.97826087, 0.95652174, 0.96376812, 0.97101449,\n",
       "        0.95035461, 0.96453901, 0.95744681, 0.97163121, 0.97163121])}"
      ]
     },
     "execution_count": 26,
     "metadata": {},
     "output_type": "execute_result"
    }
   ],
   "source": [
    "results"
   ]
  },
  {
   "cell_type": "code",
   "execution_count": 27,
   "metadata": {},
   "outputs": [
    {
     "name": "stdout",
     "output_type": "stream",
     "text": [
      "[[ 91  59   0]\n",
      " [  0 950   0]\n",
      " [  0  51 399]]\n"
     ]
    }
   ],
   "source": [
    "matrices = []\n",
    "for estimator in results['estimator']:\n",
    "    matrices.append(confusion_matrix(y, estimator.predict(X)))\n",
    "print(np.sum(matrices, axis=0))"
   ]
  },
  {
   "cell_type": "code",
   "execution_count": 28,
   "metadata": {
    "collapsed": true
   },
   "outputs": [
    {
     "data": {
      "text/html": [
       "<div>\n",
       "<style scoped>\n",
       "    .dataframe tbody tr th:only-of-type {\n",
       "        vertical-align: middle;\n",
       "    }\n",
       "\n",
       "    .dataframe tbody tr th {\n",
       "        vertical-align: top;\n",
       "    }\n",
       "\n",
       "    .dataframe thead th {\n",
       "        text-align: right;\n",
       "    }\n",
       "</style>\n",
       "<table border=\"1\" class=\"dataframe\">\n",
       "  <thead>\n",
       "    <tr style=\"text-align: right;\">\n",
       "      <th></th>\n",
       "      <th>period1_Actividad reciente vis</th>\n",
       "      <th>period1_Algún contenido ha sid</th>\n",
       "      <th>period1_Capítulo visto</th>\n",
       "      <th>period1_Comentario creado</th>\n",
       "      <th>period1_Comentario eliminado</th>\n",
       "      <th>period1_Consulta respondida</th>\n",
       "      <th>period1_Curso actualizado</th>\n",
       "      <th>period1_Curso buscado</th>\n",
       "      <th>period1_Curso visto</th>\n",
       "      <th>period1_Entrega creada.</th>\n",
       "      <th>...</th>\n",
       "      <th>period1_Foro: Novedades y anun</th>\n",
       "      <th>period1_Foro: Subida de inform</th>\n",
       "      <th>period1_Otro</th>\n",
       "      <th>period2_Curso: G432 - Formació</th>\n",
       "      <th>period2_Foro: Compartimos nues</th>\n",
       "      <th>period2_Foro: DEBATIENDO EL DI</th>\n",
       "      <th>period2_Foro: FORO PARA COMPAR</th>\n",
       "      <th>period2_Foro: Novedades y anun</th>\n",
       "      <th>period2_Foro: Subida de inform</th>\n",
       "      <th>period2_Otro</th>\n",
       "    </tr>\n",
       "  </thead>\n",
       "  <tbody>\n",
       "    <tr>\n",
       "      <th>2</th>\n",
       "      <td>0</td>\n",
       "      <td>0</td>\n",
       "      <td>1</td>\n",
       "      <td>0</td>\n",
       "      <td>0</td>\n",
       "      <td>0</td>\n",
       "      <td>0</td>\n",
       "      <td>0</td>\n",
       "      <td>33</td>\n",
       "      <td>0</td>\n",
       "      <td>...</td>\n",
       "      <td>2</td>\n",
       "      <td>0</td>\n",
       "      <td>0</td>\n",
       "      <td>0</td>\n",
       "      <td>0</td>\n",
       "      <td>0</td>\n",
       "      <td>0</td>\n",
       "      <td>2</td>\n",
       "      <td>0</td>\n",
       "      <td>0</td>\n",
       "    </tr>\n",
       "    <tr>\n",
       "      <th>3</th>\n",
       "      <td>0</td>\n",
       "      <td>0</td>\n",
       "      <td>1</td>\n",
       "      <td>0</td>\n",
       "      <td>0</td>\n",
       "      <td>0</td>\n",
       "      <td>0</td>\n",
       "      <td>0</td>\n",
       "      <td>28</td>\n",
       "      <td>0</td>\n",
       "      <td>...</td>\n",
       "      <td>1</td>\n",
       "      <td>0</td>\n",
       "      <td>0</td>\n",
       "      <td>0</td>\n",
       "      <td>0</td>\n",
       "      <td>0</td>\n",
       "      <td>0</td>\n",
       "      <td>1</td>\n",
       "      <td>0</td>\n",
       "      <td>0</td>\n",
       "    </tr>\n",
       "    <tr>\n",
       "      <th>4</th>\n",
       "      <td>0</td>\n",
       "      <td>0</td>\n",
       "      <td>0</td>\n",
       "      <td>0</td>\n",
       "      <td>0</td>\n",
       "      <td>0</td>\n",
       "      <td>0</td>\n",
       "      <td>0</td>\n",
       "      <td>9</td>\n",
       "      <td>0</td>\n",
       "      <td>...</td>\n",
       "      <td>2</td>\n",
       "      <td>0</td>\n",
       "      <td>0</td>\n",
       "      <td>0</td>\n",
       "      <td>0</td>\n",
       "      <td>0</td>\n",
       "      <td>0</td>\n",
       "      <td>2</td>\n",
       "      <td>0</td>\n",
       "      <td>0</td>\n",
       "    </tr>\n",
       "  </tbody>\n",
       "</table>\n",
       "<p>3 rows × 107 columns</p>\n",
       "</div>"
      ],
      "text/plain": [
       "   period1_Actividad reciente vis  period1_Algún contenido ha sid  \\\n",
       "2                               0                               0   \n",
       "3                               0                               0   \n",
       "4                               0                               0   \n",
       "\n",
       "   period1_Capítulo visto  period1_Comentario creado  \\\n",
       "2                       1                          0   \n",
       "3                       1                          0   \n",
       "4                       0                          0   \n",
       "\n",
       "   period1_Comentario eliminado  period1_Consulta respondida  \\\n",
       "2                             0                            0   \n",
       "3                             0                            0   \n",
       "4                             0                            0   \n",
       "\n",
       "   period1_Curso actualizado  period1_Curso buscado  period1_Curso visto  \\\n",
       "2                          0                      0                   33   \n",
       "3                          0                      0                   28   \n",
       "4                          0                      0                    9   \n",
       "\n",
       "   period1_Entrega creada.      ...       period1_Foro: Novedades y anun  \\\n",
       "2                        0      ...                                    2   \n",
       "3                        0      ...                                    1   \n",
       "4                        0      ...                                    2   \n",
       "\n",
       "   period1_Foro: Subida de inform  period1_Otro  \\\n",
       "2                               0             0   \n",
       "3                               0             0   \n",
       "4                               0             0   \n",
       "\n",
       "   period2_Curso: G432 - Formació  period2_Foro: Compartimos nues  \\\n",
       "2                               0                               0   \n",
       "3                               0                               0   \n",
       "4                               0                               0   \n",
       "\n",
       "   period2_Foro: DEBATIENDO EL DI  period2_Foro: FORO PARA COMPAR  \\\n",
       "2                               0                               0   \n",
       "3                               0                               0   \n",
       "4                               0                               0   \n",
       "\n",
       "   period2_Foro: Novedades y anun  period2_Foro: Subida de inform  \\\n",
       "2                               2                               0   \n",
       "3                               1                               0   \n",
       "4                               2                               0   \n",
       "\n",
       "   period2_Otro  \n",
       "2             0  \n",
       "3             0  \n",
       "4             0  \n",
       "\n",
       "[3 rows x 107 columns]"
      ]
     },
     "execution_count": 28,
     "metadata": {},
     "output_type": "execute_result"
    }
   ],
   "source": [
    "X.iloc[[2,3,4]]"
   ]
  },
  {
   "cell_type": "code",
   "execution_count": 33,
   "metadata": {},
   "outputs": [
    {
     "name": "stderr",
     "output_type": "stream",
     "text": [
      "/home/mario/miniconda3/lib/python3.6/site-packages/sklearn/preprocessing/data.py:625: DataConversionWarning: Data with input dtype int64, float64 were all converted to float64 by StandardScaler.\n",
      "  return self.partial_fit(X, y)\n",
      "/home/mario/miniconda3/lib/python3.6/site-packages/sklearn/base.py:462: DataConversionWarning: Data with input dtype int64, float64 were all converted to float64 by StandardScaler.\n",
      "  return self.fit(X, **fit_params).transform(X)\n"
     ]
    },
    {
     "data": {
      "text/plain": [
       "array([[-0.26234793, -0.0805823 ,  1.57011284, ..., -0.53290791,\n",
       "        -0.35828207,  0.        ],\n",
       "       [-0.26234793, -0.0805823 , -0.72148311, ..., -0.23362992,\n",
       "        -0.35828207,  0.        ],\n",
       "       [-0.26234793, -0.0805823 , -0.26316392, ..., -0.23362992,\n",
       "        -0.35828207,  0.        ],\n",
       "       ...,\n",
       "       [-0.26234793, -0.0805823 , -0.26316392, ..., -0.53290791,\n",
       "        -0.35828207,  0.        ],\n",
       "       [ 3.27364594, -0.0805823 , -0.72148311, ...,  0.36492607,\n",
       "        -0.35828207,  0.        ],\n",
       "       [-0.26234793, -0.0805823 , -0.72148311, ..., -0.83218591,\n",
       "        -0.35828207,  0.        ]])"
      ]
     },
     "execution_count": 33,
     "metadata": {},
     "output_type": "execute_result"
    }
   ],
   "source": [
    "from sklearn.preprocessing import StandardScaler \n",
    "X_std = StandardScaler().fit_transform(X)\n",
    "X_std"
   ]
  },
  {
   "cell_type": "code",
   "execution_count": 32,
   "metadata": {},
   "outputs": [
    {
     "name": "stdout",
     "output_type": "stream",
     "text": [
      "0.5483870967741935\n",
      "0.5806451612903226\n",
      "0.6129032258064516\n",
      "0.5806451612903226\n",
      "0.5806451612903226\n",
      "[[ 0 14  1]\n",
      " [ 4 85  6]\n",
      " [ 1 39  5]]\n"
     ]
    }
   ],
   "source": [
    "skf = StratifiedKFold(n_splits=5)\n",
    "matrices = []\n",
    "for train_index, test_index in skf.split(X, y):\n",
    "    model = SVC(gamma='auto', class_weight='balanced')\n",
    "    y_pred = model.fit(X.iloc[train_index], y[train_index]).predict(X.iloc[test_index])\n",
    "    print(model.score(X.iloc[test_index], y[test_index]))\n",
    "    matrices.append(confusion_matrix(y[test_index], y_pred))\n",
    "print(np.sum(matrices, axis=0))"
   ]
  },
  {
   "cell_type": "code",
   "execution_count": 35,
   "metadata": {},
   "outputs": [
    {
     "name": "stdout",
     "output_type": "stream",
     "text": [
      "0.6129032258064516\n",
      "0.6129032258064516\n",
      "0.6129032258064516\n",
      "0.5806451612903226\n",
      "0.6129032258064516\n",
      "[[ 0 15  0]\n",
      " [ 0 94  1]\n",
      " [ 0 45  0]]\n"
     ]
    }
   ],
   "source": [
    "skf = StratifiedKFold(n_splits=5)\n",
    "matrices = []\n",
    "for train_index, test_index in skf.split(X, y):\n",
    "    model = SVC(gamma='auto')\n",
    "    y_pred = model.fit(X_std[train_index], y[train_index]).predict(X_std[test_index])\n",
    "    print(model.score(X_std[test_index], y[test_index]))\n",
    "    matrices.append(confusion_matrix(y[test_index], y_pred))\n",
    "print(np.sum(matrices, axis=0))"
   ]
  }
 ],
 "metadata": {
  "kernelspec": {
   "display_name": "Python 3",
   "language": "python",
   "name": "python3"
  },
  "language_info": {
   "codemirror_mode": {
    "name": "ipython",
    "version": 3
   },
   "file_extension": ".py",
   "mimetype": "text/x-python",
   "name": "python",
   "nbconvert_exporter": "python",
   "pygments_lexer": "ipython3",
   "version": "3.6.4"
  }
 },
 "nbformat": 4,
 "nbformat_minor": 2
}
