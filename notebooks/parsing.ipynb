{
 "cells": [
  {
   "cell_type": "code",
   "execution_count": 0,
   "metadata": {},
   "outputs": [],
   "source": [
    "import csv\n",
    "import pprint\n",
    "from datetime import datetime, timedelta\n",
    "\n",
    "pp = pprint.PrettyPrinter(indent=4)"
   ]
  },
  {
   "cell_type": "code",
   "execution_count": 0,
   "metadata": {},
   "outputs": [],
   "source": [
    "# Function to load a csv into a list\n",
    "def load_csv(path, has_header=True):\n",
    "    \"\"\"\n",
    "    If has_header, returns (rows, column_names)\n",
    "    Else returns rows only.\n",
    "    \"\"\"\n",
    "    with open(\"primaria.csv\", encoding=\"utf-8\") as file:\n",
    "        reader = csv.reader(file, delimiter=\";\")\n",
    "        if has_header:\n",
    "            column_names = list(next(reader))\n",
    "        rows = list(reader)\n",
    "    if column_names:\n",
    "        return rows, column_names\n",
    "    else:\n",
    "        return rows"
   ]
  },
  {
   "cell_type": "code",
   "execution_count": 0,
   "metadata": {},
   "outputs": [],
   "source": [
    "# Load the csv into a list\n",
    "rows, log_col_names = load_csv(\"primaria.csv\", has_header=True)\n",
    "rows = list(reversed(rows))\n"
   ]
  },
  {
   "cell_type": "code",
   "execution_count": 0,
   "metadata": {},
   "outputs": [],
   "source": [
    "# Process action types\n",
    "names = dict()\n",
    "# Keeps all the features we will obtain in this script\n",
    "features = [\"Name\"]\n",
    "\n",
    "# Iterate over the rows, and create dictionary of students,\n",
    "# counting number of actions performed by each.\n",
    "for row in rows:\n",
    "    # Get name of student and action performed\n",
    "    name = row[5]\n",
    "    action_type = row[2]\n",
    "    # If new name found, create its entry.\n",
    "    if not name in names:\n",
    "        names[name] = {\"ID\": name}\n",
    "    # If new action type for this name found, create its entry.\n",
    "    if not action_type in names[name]:\n",
    "        names[name][action_type] = 0\n",
    "    # Increment counter\n",
    "    names[name][action_type] += 1\n",
    "\n",
    "    # Keep track of all action types found until now,\n",
    "    # and add them as features.\n",
    "    if not action_type in features:\n",
    "        features.append(action_type)\n",
    "\n",
    "print(f\"Found {len(features)} features:\")\n",
    "pp.pprint(features)"
   ]
  },
  {
   "cell_type": "code",
   "execution_count": 0,
   "metadata": {},
   "outputs": [],
   "source": [
    "# Compute average session length and number of sessions per student\n",
    "\n",
    "# Format of the timesamp in the log\n",
    "time_format = \"%d/%m/%Y %H:%M\"\n",
    "# Dictionary holding a list of activity timestamps per student\n",
    "timestamps_dict = {}\n",
    "\n",
    "for row in rows:\n",
    "    name = row[5]\n",
    "    timestamp = row[0]\n",
    "    if not name in timestamps_dict:\n",
    "        timestamps_dict[name] = []\n",
    "    time = datetime.strptime(timestamp, time_format)\n",
    "    timestamps_dict[name].append(time)"
   ]
  },
  {
   "cell_type": "code",
   "execution_count": 0,
   "metadata": {},
   "outputs": [],
   "source": [
    "# Max minutes between actions in a session\n",
    "max_idle = timedelta(minutes=20)\n",
    "# Iterate over timestamps to compute features\n",
    "for name, timestamps in timestamps_dict.items():\n",
    "\n",
    "    num_sessions = 0\n",
    "    avr_duration = timedelta(0)\n",
    "    i = 1\n",
    "    last = timestamps[0]\n",
    "    session_start = last\n",
    "\n",
    "    while i < len(timestamps):\n",
    "\n",
    "        current = timestamps[i]\n",
    "        diff = current - last\n",
    "        if diff > max_idle:\n",
    "            num_sessions += 1\n",
    "            avr_duration += last - session_start\n",
    "            session_start = current\n",
    "\n",
    "        last = current\n",
    "        i += 1\n",
    "\n",
    "    # Last session\n",
    "    num_sessions += 1\n",
    "    avr_duration += last - session_start\n",
    "    avr_duration /= num_sessions\n",
    "\n",
    "    # Add computed values as features\n",
    "    names[name][\"Average Session Duration\"] = avr_duration.total_seconds()\n",
    "    names[name][\"Number of Sessions\"] = num_sessions"
   ]
  },
  {
   "cell_type": "code",
   "execution_count": 0,
   "metadata": {},
   "outputs": [],
   "source": [
    "# Export as csv\n",
    "with open(\"names.csv\", \"w\", encoding=\"utf-8\") as out:\n",
    "    writer = csv.DictWriter(out, fieldnames=features, restval=0)\n",
    "\n",
    "    writer.writeheader()\n",
    "    for Name in names.values():\n",
    "        writer.writerow(Name)"
   ]
  }
 ],
 "metadata": {
  "file_extension": ".py",
  "kernelspec": {
   "display_name": "Python 3",
   "language": "python",
   "name": "python3"
  },
  "language_info": {
   "codemirror_mode": {
    "name": "ipython",
    "version": 3
   },
   "file_extension": ".py",
   "mimetype": "text/x-python",
   "name": "python",
   "nbconvert_exporter": "python",
   "pygments_lexer": "ipython3",
   "version": "3.6.4"
  },
  "mimetype": "text/x-python",
  "name": "python",
  "npconvert_exporter": "python",
  "pygments_lexer": "ipython3",
  "version": 3
 },
 "nbformat": 4,
 "nbformat_minor": 2
}
